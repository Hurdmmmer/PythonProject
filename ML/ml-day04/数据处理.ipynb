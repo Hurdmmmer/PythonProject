{
 "cells": [
  {
   "attachments": {},
   "cell_type": "markdown",
   "metadata": {
    "collapsed": false
   },
   "source": [
    "# 数据预处理\n",
    "## 1) 标准化（均值移除）\n",
    "让样本矩阵中每一列的平均值为0，标准差为1.如有三个数a,b,c 则平均值为\n",
    "$$ m = (a + b + c) / 3 $$\n",
    "$$ a' = a - m $$\n",
    "$$ b' = b - m $$\n",
    "$$ c' = c - m $$\n",
    "\n",
    "预处理后的平均值为0(根据上面计算的均值，计算均值为0公式如下)：\n",
    "$$ (a' + b' + c')/3  =0 $$\n",
    "预处理后的标准差（计算标准差为1）：\n",
    "\n",
    "$$ a'' = a' / m $$\n",
    "$$ b'' = b' / m $$\n",
    "$$ c'' = c' / m $$\n",
    "\n",
    "推导过程\n",
    "$$ s = sqrt(((a-m)^{2}+(b-m)^{2}+(c-m)^{2}) / 3) $$\n",
    "$$ s'' = sqrt(((a'/s)^{2} + (b'/s)^{2} + (c'/s)^{2})/3) $$\n",
    "$$     = sqrt((a'^{2}+b'^{2}+c'^{2})/(3*s^{2})) $$\n",
    "$$     = 1 $$\n"
   ]
  },
  {
   "cell_type": "code",
   "execution_count": 7,
   "metadata": {},
   "outputs": [
    {
     "name": "stdout",
     "output_type": "stream",
     "text": [
      "使用 SKLearn 处理均值: [ 0.00000000e+00  0.00000000e+00 -2.96059473e-16]\n",
      "使用 SKLearn 标准差: [1. 1. 1.]\n"
     ]
    }
   ],
   "source": [
    "'''\n",
    "    均值移除， 调整数据的分布状态，以列为单位\n",
    "    让每列的均值为0，标准差为1. 主要的功能是让测试样本中的数据平均。不要出现特异的异常数据\n",
    "    数学步骤：\n",
    "    1. 原始数据减去均值\n",
    "    2. 减完之后的结果除以元素数据的标准差\n",
    "'''\n",
    "import numpy as np\n",
    "# 样本数据\n",
    "raw_sample = np.array([[3.0, -1.0, 2.0], [0.3, 4.0, 3.0], [1.0, -4.0, 2.0]])\n",
    "# 数学步骤计算\n",
    "# std_sample = raw_sample.copy()\n",
    "# # 获取每一列的数据, 使用的方法为。 使用 T 方法对数据进行旋转\n",
    "# for col in std_sample.T:\n",
    "#     # 求出均值\n",
    "#     col_mean = col.mean()\n",
    "#     # 求出标准差\n",
    "#     col_std = col.std()\n",
    "#     # 原始数据减去均值\n",
    "#     col -= col_mean\n",
    "#     # 原始数据除以标准差\n",
    "#     col /= col_std\n",
    "# 使用 sklearn 提供的 api 进行数据预处理\n",
    "import sklearn.preprocessing as sp\n",
    "res = sp.scale(raw_sample)\n",
    "\n",
    "print(f'使用 SKLearn 处理均值: {res.mean(axis=0)}')\n",
    "print(f'使用 SKLearn 标准差: {res.std(axis=0)}')"
   ]
  },
  {
   "attachments": {},
   "cell_type": "markdown",
   "metadata": {},
   "source": [
    "# 范围缩放\n",
    "*范围缩放*的作用和*均值移除*差不多。\n",
    "*范围缩放*是将每列数据中最大的值变为`1`，最小值变为`0`，其他的值等比例缩放\n",
    "## 数学方法\n",
    "    <br>1. 用原始数据 - 最小值\n",
    "    <br>2. 减完之后的结果 /（原始数据的最大值 - 最小值）"
   ]
  },
  {
   "cell_type": "code",
   "execution_count": 11,
   "metadata": {},
   "outputs": [
    {
     "name": "stdout",
     "output_type": "stream",
     "text": [
      "math : [[0.31034483 1.         0.        ]\n",
      " [0.         0.         1.        ]\n",
      " [1.         0.57142857 0.        ]]\n",
      "--------------------------------------------------\n",
      "api fit transform [[0.31034483 1.         0.        ]\n",
      " [0.         0.         1.        ]\n",
      " [1.         0.57142857 0.        ]]\n"
     ]
    }
   ],
   "source": [
    "import numpy as np\n",
    "import sklearn.preprocessing as sp\n",
    "\n",
    "# 样本数据\n",
    "raw_sample = np.array([[3.0, 11.0, 2.0], [0.3, 4.0, 3.0], [9.0, 8.0, 2.0]])\n",
    "\n",
    "mms_sample = raw_sample.copy()\n",
    "\n",
    "for col in mms_sample.T:\n",
    "    col_min = col.min()\n",
    "    col_max = col.max()\n",
    "    col -= col_min\n",
    "    col /= (col_max - col_min)\n",
    "\n",
    "print(f'math : {mms_sample}')\n",
    "print('-' * 50)\n",
    "# 使用 api 计算范围缩放\n",
    "# 创建一个范围缩放器, feature_range 指定最大最小值的范围\n",
    "mms = sp.MinMaxScaler(feature_range=(0, 1))\n",
    "# 进行缩放\n",
    "mms_sample = mms.fit_transform(raw_sample)\n",
    "print(f'api fit transform {mms_sample}')\n"
   ]
  },
  {
   "attachments": {},
   "cell_type": "markdown",
   "metadata": {},
   "source": [
    "# 归一化\n",
    "将每一行的数据转换为百分比(0-1)， 可以有效的反应数据的占比。\n",
    "<Br> 每一个样本数据 / 每个数据绝对值之和\n",
    "<hr>\n",
    "<br> 归一化是数学中的一种技术，通常用于处理和标准化数据。归一化通过将数据转换为具有相同尺度的新数据，以确保所有数据具有相同的权重。在机器学习中，归一化通常用于预处理数据，以确保所有特征具有相似的尺度，从而使模型能够更好地拟合数据。"
   ]
  },
  {
   "cell_type": "code",
   "execution_count": 16,
   "metadata": {},
   "outputs": [
    {
     "name": "stdout",
     "output_type": "stream",
     "text": [
      "math:  [[0.28571429 0.57142857 0.14285714]\n",
      " [0.42105263 0.52631579 0.05263158]]\n",
      "--------------------------------------------------\n",
      "sklearn: [[0.28571429 0.57142857 0.14285714]\n",
      " [0.42105263 0.52631579 0.05263158]]\n"
     ]
    }
   ],
   "source": [
    "import numpy as np\n",
    "import sklearn.preprocessing as sp\n",
    " \n",
    "# 样本数据\n",
    "raw_sample = np.array([[10., 20., 5.], [8., 10., 1.]])\n",
    "\n",
    "nor_sample = raw_sample.copy()\n",
    "\n",
    "for row in nor_sample:\n",
    "    # 绝对值之和\n",
    "    row /= abs(row).sum()\n",
    "print('math: ', nor_sample)\n",
    "print('-'*50)\n",
    "# norm的参数 l1 或 l2 是计算时每一个元素指定使用 绝对值 还是 平方\n",
    "# l1 每一个元素绝对值之和\n",
    "# l2 每一个元素平方之和\n",
    "nor_sample = sp.normalize(raw_sample, norm='l1')\n",
    "print(f'sklearn: {nor_sample}')"
   ]
  },
  {
   "attachments": {},
   "cell_type": "markdown",
   "metadata": {},
   "source": [
    "# 二值化\n",
    "根据给定的阈值，将样本数据用`0`和`1`来表示样本数据的特征是否超过阈值\n",
    "<hr>\n",
    "二值化是数字图像处理中的一种技术，用于将图像中的每个像素点的灰度值转换为黑或白。它将整个图像的灰度分布限制在两个级别，通常是0和255，以此来简化图像的处理。\n",
    "\n",
    "二值化有以下作用：\n",
    "\n",
    "去除噪声：二值化可以帮助去除图像中的噪声，从而使图像更清晰。\n",
    "\n",
    "简化图像：二值化可以简化图像，使其变得更容易处理。\n",
    "\n",
    "提高边缘检测的效率：二值化可以帮助提高边缘检测的效率，因为图像中的边缘变得更明显。\n",
    "\n",
    "文字识别：二值化可以帮助文字识别，因为文字在二值图像中变得更明显。\n",
    "\n",
    "二值化是图像处理的常见技术，在计算机视觉和图像处理领域有着广泛的应"
   ]
  },
  {
   "cell_type": "code",
   "execution_count": 5,
   "metadata": {},
   "outputs": [
    {
     "name": "stdout",
     "output_type": "stream",
     "text": [
      "[[1. 1. 1.]\n",
      " [0. 1. 1.]\n",
      " [0. 0. 1.]]\n",
      "--------------------------------------------------\n",
      "MKLearn 二值化: \n",
      "[[1. 1. 1.]\n",
      " [0. 1. 1.]\n",
      " [0. 0. 1.]]\n"
     ]
    }
   ],
   "source": [
    "import numpy as np\n",
    "import sklearn.preprocessing as sp\n",
    "\n",
    "raw_sample = np.array([[65., 89., 73.], [55., 99.,98.], [45.,22.5, 60.]])\n",
    "\n",
    "bin_sample = raw_sample.copy()\n",
    "# 生成掩码\n",
    "mask1 = bin_sample < 60\n",
    "mask2 = bin_sample >= 60\n",
    "bin_sample[mask1] = 0\n",
    "bin_sample[mask2] = 1\n",
    "print(bin_sample)\n",
    "print('-'*50)\n",
    "bin = sp.Binarizer(threshold=59)\n",
    "bin_sample = bin.transform(raw_sample)\n",
    "print(f'MKLearn 二值化: \\n{bin_sample}')\n",
    "\n"
   ]
  },
  {
   "attachments": {},
   "cell_type": "markdown",
   "metadata": {},
   "source": [
    "# 独热编码\n",
    "<hr>\n",
    "独热编码是可逆的\n",
    "<br>\n",
    "独热编码的主要作用是将分类变量（categorical variable）转换为数字型变量，以便用于机器学习模型的训练。独热编码的原理是对每一个分类创建一个二元（0/1）变量，表示该样本是否属于该分类。这样，机器学习模型就可以对数字型特征进行训练。"
   ]
  },
  {
   "cell_type": "code",
   "execution_count": 11,
   "metadata": {},
   "outputs": [
    {
     "name": "stdout",
     "output_type": "stream",
     "text": [
      "编码: [[1 0 1 0 1 0 0 0 1 0]\n",
      " [0 1 0 1 0 0 1 1 0 0]\n",
      " [1 0 0 1 0 1 0 0 0 1]]\n",
      "--------------------------------------------------\n",
      "解码: [[1 2 3 4]\n",
      " [2 3 9 0]\n",
      " [1 3 8 9]]\n"
     ]
    }
   ],
   "source": [
    "import numpy as np\n",
    "import sklearn.preprocessing as sp\n",
    "\n",
    "data = np.array([[1,2,3,4],[2,3,9,0],[1,3,8,9]])\n",
    "\n",
    "one_hot_encode = sp.OneHotEncoder(\n",
    "    sparse=False, dtype='int32', categories='auto')\n",
    "# 进行编码\n",
    "res = one_hot_encode.fit_transform(data)\n",
    "print(f'编码: {res}')\n",
    "print('-'*50)\n",
    "print(f'解码: {one_hot_encode.inverse_transform(res)}')\n"
   ]
  },
  {
   "attachments": {},
   "cell_type": "markdown",
   "metadata": {},
   "source": [
    "# 标签编码\n",
    "<hr>\n",
    "标签编码就是将字符串的标签,转换为一组数值的方法"
   ]
  },
  {
   "cell_type": "code",
   "execution_count": 8,
   "metadata": {},
   "outputs": [
    {
     "name": "stdout",
     "output_type": "stream",
     "text": [
      "[3 3 3 ... 1 1 1]\n",
      "[3 3 3 ... 1 1 1]\n",
      "[0 0 0 ... 3 3 3]\n",
      "[0 0 0 ... 2 2 2]\n",
      "[2 2 2 ... 0 0 0]\n",
      "[1 2 0 ... 1 2 0]\n",
      "[2 2 2 ... 2 1 3]\n",
      "      0  1  2  3  4  5  6\n",
      "0     3  3  0  0  2  1  2\n",
      "1     3  3  0  0  2  2  2\n",
      "2     3  3  0  0  2  0  2\n",
      "3     3  3  0  0  1  1  2\n",
      "4     3  3  0  0  1  2  2\n",
      "...  .. .. .. .. .. .. ..\n",
      "1723  1  1  3  2  1  2  1\n",
      "1724  1  1  3  2  1  0  3\n",
      "1725  1  1  3  2  0  1  2\n",
      "1726  1  1  3  2  0  2  1\n",
      "1727  1  1  3  2  0  0  3\n",
      "\n",
      "[1728 rows x 7 columns]\n"
     ]
    }
   ],
   "source": [
    "'''\n",
    "    将目标数据标签,转换为一组数值\n",
    "'''\n",
    "import numpy as np\n",
    "import sklearn.preprocessing as sp\n",
    "import pandas as pd\n",
    "\n",
    "# 读取目标文件\n",
    "datas = pd.read_csv('../data_test/car.txt', header=None)\n",
    "\n",
    "res_datas = pd.DataFrame()\n",
    "# 这个遍历时获取到每一列的列名\n",
    "for i in datas:\n",
    "    encoder = sp.LabelEncoder()\n",
    "    # 将每一列的数据根据标签编码进行转换, 它的结果为一个一维数组\n",
    "    res = encoder.fit_transform(datas[i])\n",
    "    # 将转换的结果赋值给新的DataFrame对象中, 赋值时会将当前的一维数组,转换为 DataFrame 中的列\n",
    "    res_datas[i] = res\n",
    "    \n",
    "print(res_datas)\n",
    "    \n",
    "\n"
   ]
  }
 ],
 "metadata": {
  "kernelspec": {
   "display_name": "Python 3",
   "language": "python",
   "name": "python3"
  },
  "language_info": {
   "codemirror_mode": {
    "name": "ipython",
    "version": 3
   },
   "file_extension": ".py",
   "mimetype": "text/x-python",
   "name": "python",
   "nbconvert_exporter": "python",
   "pygments_lexer": "ipython3",
   "version": "3.8.10"
  },
  "orig_nbformat": 4,
  "vscode": {
   "interpreter": {
    "hash": "916dbcbb3f70747c44a77c7bcd40155683ae19c65e1c03b4aa3499c5328201f1"
   }
  }
 },
 "nbformat": 4,
 "nbformat_minor": 2
}
