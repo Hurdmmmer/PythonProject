{
 "cells": [
  {
   "attachments": {},
   "cell_type": "markdown",
   "metadata": {},
   "source": [
    "# numpy 入门"
   ]
  },
  {
   "cell_type": "code",
   "execution_count": 6,
   "metadata": {},
   "outputs": [
    {
     "name": "stdout",
     "output_type": "stream",
     "text": [
      "numpy shap 查看当前数据形状 (6,)\n",
      "[[[1 2 3 4 5 6]]]\n"
     ]
    }
   ],
   "source": [
    "import numpy as np\n",
    "\n",
    "arr = np.array([1,2,3,4,5,6])\n",
    "\n",
    "print(f'numpy shap 查看当前数据形状 {arr.shape}')\n",
    "\n",
    "array = np.array([[1,2,3, 4], [4,5,6, 7], [7,8,9,10]])\n",
    "\n",
    "print(array.shape)\n",
    "\n",
    "# 使用 ndmin 参数，指定当前数据最小维度\n",
    "arr = np.array([1,2,3,4,5,6], ndmin=3)\n",
    "print(arr)\n",
    "\n"
   ]
  },
  {
   "cell_type": "code",
   "execution_count": 8,
   "metadata": {},
   "outputs": [
    {
     "name": "stdout",
     "output_type": "stream",
     "text": [
      "[1. 3. 5. 7. 9.]\n"
     ]
    }
   ],
   "source": [
    "''' \n",
    "    numpy arange(start, stop, step, dtype)\n",
    "    start   开始值\n",
    "    stop    终止值\n",
    "    step    步长\n",
    "    dtype   元素类型\n",
    "'''\n",
    "\n",
    "arr = np.arange(1, 10, 2, dtype=float)\n",
    "print(arr)"
   ]
  },
  {
   "cell_type": "code",
   "execution_count": 14,
   "metadata": {},
   "outputs": [
    {
     "name": "stdout",
     "output_type": "stream",
     "text": [
      "[0.76901959 0.20224632 0.20667656]\n",
      "[[2 3]\n",
      " [4 3]\n",
      " [3 2]]\n"
     ]
    }
   ],
   "source": [
    "''' \n",
    "    random(size)\n",
    "    size    接受一个元组，表示生成 ndarry的形状\n",
    "'''\n",
    "arr = np.random.random(size=(3,))\n",
    "print(arr)\n",
    "arr=np.random.randint(1,5, size=(3,2))\n",
    "print(arr)"
   ]
  },
  {
   "cell_type": "code",
   "execution_count": 25,
   "metadata": {},
   "outputs": [
    {
     "name": "stdout",
     "output_type": "stream",
     "text": [
      "[[ 0  1  2]\n",
      " [ 3  4  5]\n",
      " [ 6  7  8]\n",
      " [ 9 10 11]]\n",
      "[[ 4  5]\n",
      " [ 7  8]\n",
      " [10 11]]\n"
     ]
    }
   ],
   "source": [
    "'''\n",
    "    切片， 开始从0\n",
    "        一维数组[开始:结束:步长]\n",
    "        二维数组[(行)开始:结束:步长, (列)开始:结束:步长]\n",
    "\n",
    "'''\n",
    "\n",
    "arr = np.arange(12)\n",
    "arr = arr.reshape(4, 3)\n",
    "print(arr)\n",
    "# 使用切片取出 4，5，7, 8元素\n",
    "\n",
    "arr = arr[1:3, 1:3]\n",
    "print(arr)\n"
   ]
  }
 ],
 "metadata": {
  "kernelspec": {
   "display_name": "ml",
   "language": "python",
   "name": "python3"
  },
  "language_info": {
   "codemirror_mode": {
    "name": "ipython",
    "version": 3
   },
   "file_extension": ".py",
   "mimetype": "text/x-python",
   "name": "python",
   "nbconvert_exporter": "python",
   "pygments_lexer": "ipython3",
   "version": "3.8.16"
  },
  "orig_nbformat": 4
 },
 "nbformat": 4,
 "nbformat_minor": 2
}
